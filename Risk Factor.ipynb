{
 "cells": [
  {
   "cell_type": "markdown",
   "metadata": {},
   "source": [
    "# Calculating Risk Factor"
   ]
  },
  {
   "cell_type": "code",
   "execution_count": 1,
   "metadata": {},
   "outputs": [
    {
     "name": "stdout",
     "output_type": "stream",
     "text": [
      "SPO2: 90\n",
      "Age: 50\n",
      "Hemo 11.5\n",
      "weight 75\n",
      "lc: 75\n",
      "Risk Factor before dividing: 5976.0\n",
      "Risk Factor 0.747\n"
     ]
    }
   ],
   "source": [
    "spo2 = 90\n",
    "age = 50\n",
    "hb = 11.5\n",
    "w =75\n",
    "lc = 75\n",
    "print(\"SPO2:\",spo2)\n",
    "print(\"Age:\",age)\n",
    "print(\"Hemo\",hb)\n",
    "print(\"weight\",w)\n",
    "print(\"lc:\",lc)\n",
    "s = ((2*spo2)+age+(4*hb)+w+(lc*lc))\n",
    "print(\"Risk Factor before dividing:\",s)\n",
    "s = s/8000\n",
    "print(\"Risk Factor\",s)"
   ]
  }
 ],
 "metadata": {
  "kernelspec": {
   "display_name": "Python 3",
   "language": "python",
   "name": "python3"
  },
  "language_info": {
   "codemirror_mode": {
    "name": "ipython",
    "version": 3
   },
   "file_extension": ".py",
   "mimetype": "text/x-python",
   "name": "python",
   "nbconvert_exporter": "python",
   "pygments_lexer": "ipython3",
   "version": "3.7.6"
  }
 },
 "nbformat": 4,
 "nbformat_minor": 4
}
